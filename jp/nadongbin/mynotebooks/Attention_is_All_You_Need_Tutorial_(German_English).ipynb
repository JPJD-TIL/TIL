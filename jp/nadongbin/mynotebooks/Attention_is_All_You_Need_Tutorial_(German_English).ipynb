{
 "cells": [
  {
   "cell_type": "markdown",
   "metadata": {
    "id": "rgnZOimXdN2V"
   },
   "source": [
    "#### **Attention is All You Need (NIPS 2017)** 실습\n",
    "* 본 코드는 기본적으로 **Transformer** 논문의 내용을 최대한 따릅니다.\n",
    "    * 본 논문은 **딥러닝 기반의 자연어 처리** 기법의 기본적인 구성을 이해하고 공부하는 데에 도움을 줍니다.\n",
    "    * 2020년 기준 가장 뛰어난 번역 모델들은 본 논문에서 제안한 **Transformer 기반의 아키텍처**를 따르고 있습니다.\n",
    "* 코드 실행 전에 **[런타임]** → **[런타임 유형 변경]** → 유형을 **GPU**로 설정합니다."
   ]
  },
  {
   "cell_type": "code",
   "execution_count": 1,
   "metadata": {},
   "outputs": [
    {
     "name": "stderr",
     "output_type": "stream",
     "text": [
      "c:\\Users\\chlje\\anaconda3\\envs\\dl39v1\\lib\\site-packages\\cupy\\_environment.py:213: UserWarning: CUDA path could not be detected. Set CUDA_PATH environment variable if CuPy fails to load.\n",
      "  warnings.warn(\n",
      "c:\\Users\\chlje\\anaconda3\\envs\\dl39v1\\lib\\site-packages\\spacy\\util.py:837: UserWarning: [W095] Model 'en_core_web_sm' (3.4.0) was trained with spaCy v3.4 and may not be 100% compatible with the current version (3.3.1). If you see errors or degraded performance, download a newer compatible model or retrain your custom model with the current spaCy version. For more details and available updates, run: python -m spacy validate\n",
      "  warnings.warn(warn_msg)\n",
      "c:\\Users\\chlje\\anaconda3\\envs\\dl39v1\\lib\\site-packages\\spacy\\util.py:837: UserWarning: [W095] Model 'de_core_news_sm' (3.4.0) was trained with spaCy v3.4 and may not be 100% compatible with the current version (3.3.1). If you see errors or degraded performance, download a newer compatible model or retrain your custom model with the current spaCy version. For more details and available updates, run: python -m spacy validate\n",
      "  warnings.warn(warn_msg)\n"
     ]
    }
   ],
   "source": [
    "import spacy\n",
    "\n",
    "spacy_en = spacy.load('en_core_web_sm') # 영어 토큰화\n",
    "spacy_de = spacy.load('de_core_news_sm') # 독일어 토큰화"
   ]
  },
  {
   "cell_type": "code",
   "execution_count": 2,
   "metadata": {},
   "outputs": [
    {
     "name": "stdout",
     "output_type": "stream",
     "text": [
      "index 0: I\n",
      "index 1: am\n",
      "index 2: a\n",
      "index 3: graduate\n",
      "index 4: student\n",
      "index 5: .\n"
     ]
    }
   ],
   "source": [
    "# 토큰화 기능 demo\n",
    "tokenized = spacy_en.tokenizer('I am a graduate student.')\n",
    "\n",
    "for i, token in enumerate(tokenized):\n",
    "    print(f'index {i}: {token.text}')"
   ]
  },
  {
   "cell_type": "markdown",
   "metadata": {
    "id": "iqhzmLvjeFZE"
   },
   "source": [
    "* 영어(English) 및 독일어(Deutsch) **토큰화 함수** 정의"
   ]
  },
  {
   "cell_type": "code",
   "execution_count": 3,
   "metadata": {
    "id": "USWSV869d-s7"
   },
   "outputs": [],
   "source": [
    "# 독일어(Deutsch) 문장을 토큰화 하는 함수 (순서를 뒤집지 않음)\n",
    "def tokenize_de(text):\n",
    "    return [token.text for token in spacy_de.tokenizer(text)]\n",
    "\n",
    "# 영어(English) 문장을 토큰화 하는 함수\n",
    "def tokenize_en(text):\n",
    "    return [token.text for token in spacy_en.tokenizer(text)]"
   ]
  },
  {
   "cell_type": "markdown",
   "metadata": {
    "id": "ZYi1dM7-eH0N"
   },
   "source": [
    "* **필드(field)** 라이브러리를 이용해 데이터셋에 대한 구체적인 전처리 내용을 명시합니다.\n",
    "* Seq2Seq 모델과는 다르게 <b>batch_first 속성의 값을 True로 설정</b>합니다.\n",
    "    - transformer에선 sequence보다 batch가 먼저오도록 하는 경우가 일반적이라고 함. \n",
    "* 번역 목표\n",
    "    * 소스(SRC): 독일어\n",
    "    * 목표(TRG): 영어"
   ]
  },
  {
   "cell_type": "code",
   "execution_count": 6,
   "metadata": {},
   "outputs": [],
   "source": [
    "from torchtext.data import Field, BucketIterator\n",
    "\n",
    "SRC = Field(\n",
    "    tokenize=tokenize_de, \n",
    "    init_token='<sos>',\n",
    "    eos_token='<eos>',\n",
    "    lower=True, # 독일어의 경우 떼주는게 낫지 않은가? 근데 이렇게 lower해주는게 일반적이라고 한다. \n",
    "    batch_first=True\n",
    "    )\n",
    "\n",
    "TRG = Field(\n",
    "    tokenize=tokenize_en, \n",
    "    init_token='<sos>',\n",
    "    eos_token='<eos>',\n",
    "    lower=True, \n",
    "    batch_first=True\n",
    "    )"
   ]
  },
  {
   "cell_type": "markdown",
   "metadata": {
    "id": "RX0O1oKQeY2y"
   },
   "source": [
    "* 대표적인 영어-독어 번역 데이터셋인 **Multi30k**를 불러옵니다."
   ]
  },
  {
   "cell_type": "code",
   "execution_count": 8,
   "metadata": {},
   "outputs": [
    {
     "name": "stdout",
     "output_type": "stream",
     "text": [
      "downloading training.tar.gz\n"
     ]
    },
    {
     "name": "stderr",
     "output_type": "stream",
     "text": [
      ".data\\multi30k\\training.tar.gz: 100%|██████████| 1.21M/1.21M [00:03<00:00, 402kB/s] \n"
     ]
    },
    {
     "name": "stdout",
     "output_type": "stream",
     "text": [
      "downloading validation.tar.gz\n"
     ]
    },
    {
     "name": "stderr",
     "output_type": "stream",
     "text": [
      ".data\\multi30k\\validation.tar.gz: 100%|██████████| 46.3k/46.3k [00:00<00:00, 108kB/s] \n"
     ]
    },
    {
     "name": "stdout",
     "output_type": "stream",
     "text": [
      "downloading mmt_task1_test2016.tar.gz\n"
     ]
    },
    {
     "name": "stderr",
     "output_type": "stream",
     "text": [
      ".data\\multi30k\\mmt_task1_test2016.tar.gz: 100%|██████████| 66.2k/66.2k [00:00<00:00, 96.4kB/s]\n"
     ]
    }
   ],
   "source": [
    "from torchtext.datasets import Multi30k\n",
    "\n",
    "train_dataset, valid_dataset, test_dataset = Multi30k.splits(exts=('.de', '.en'), fields=(SRC, TRG))"
   ]
  },
  {
   "cell_type": "code",
   "execution_count": 9,
   "metadata": {
    "colab": {
     "base_uri": "https://localhost:8080/"
    },
    "id": "KQ-Lhpp0ecOi",
    "outputId": "7ed79a6b-7f19-4635-be2c-aaf3ea32bfd1"
   },
   "outputs": [
    {
     "name": "stdout",
     "output_type": "stream",
     "text": [
      "학습 데이터셋(training dataset) 크기: 29000개\n",
      "평가 데이터셋(validation dataset) 크기: 1014개\n",
      "테스트 데이터셋(testing dataset) 크기: 1000개\n"
     ]
    }
   ],
   "source": [
    "print(f\"학습 데이터셋(training dataset) 크기: {len(train_dataset.examples)}개\")\n",
    "print(f\"평가 데이터셋(validation dataset) 크기: {len(valid_dataset.examples)}개\")\n",
    "print(f\"테스트 데이터셋(testing dataset) 크기: {len(test_dataset.examples)}개\")"
   ]
  },
  {
   "cell_type": "code",
   "execution_count": 10,
   "metadata": {
    "colab": {
     "base_uri": "https://localhost:8080/"
    },
    "id": "VYghX0SueecT",
    "outputId": "5250e04b-e689-4512-ef4b-5af89ca00bd1"
   },
   "outputs": [
    {
     "name": "stdout",
     "output_type": "stream",
     "text": [
      "['ein', 'mann', ',', 'der', 'mit', 'einer', 'tasse', 'kaffee', 'an', 'einem', 'urinal', 'steht', '.']\n",
      "['a', 'man', 'standing', 'at', 'a', 'urinal', 'with', 'a', 'coffee', 'cup', '.']\n"
     ]
    }
   ],
   "source": [
    "# 학습 데이터 중 하나를 선택해 출력\n",
    "print(vars(train_dataset.examples[30])['src'])\n",
    "print(vars(train_dataset.examples[30])['trg'])"
   ]
  },
  {
   "cell_type": "markdown",
   "metadata": {
    "id": "ekQys1HpegX_"
   },
   "source": [
    "* **필드(field)** 객체의 **build_vocab** 메서드를 이용해 영어와 독어의 단어 사전을 생성합니다.\n",
    "  * **최소 2번 이상** 등장한 단어만을 선택합니다."
   ]
  },
  {
   "cell_type": "code",
   "execution_count": 11,
   "metadata": {},
   "outputs": [
    {
     "name": "stdout",
     "output_type": "stream",
     "text": [
      "len(SRC): 7853\n",
      "len(TRG): 5893\n"
     ]
    }
   ],
   "source": [
    "SRC.build_vocab(train_dataset, min_freq=2)\n",
    "TRG.build_vocab(train_dataset, min_freq=2)\n",
    "\n",
    "print(f\"len(SRC): {len(SRC.vocab)}\")\n",
    "print(f\"len(TRG): {len(TRG.vocab)}\")"
   ]
  },
  {
   "cell_type": "code",
   "execution_count": 12,
   "metadata": {
    "colab": {
     "base_uri": "https://localhost:8080/"
    },
    "id": "xfo21o_5ehmK",
    "outputId": "eef00113-6a34-43b9-98b7-3463e931ff43"
   },
   "outputs": [
    {
     "name": "stdout",
     "output_type": "stream",
     "text": [
      "0\n",
      "1\n",
      "2\n",
      "3\n",
      "4112\n",
      "1752\n"
     ]
    }
   ],
   "source": [
    "print(TRG.vocab.stoi[\"abcabc\"]) # 없는 단어: 0\n",
    "print(TRG.vocab.stoi[TRG.pad_token]) # 패딩(padding): 1\n",
    "print(TRG.vocab.stoi[\"<sos>\"]) # <sos>: 2\n",
    "print(TRG.vocab.stoi[\"<eos>\"]) # <eos>: 3\n",
    "print(TRG.vocab.stoi[\"hello\"])\n",
    "print(TRG.vocab.stoi[\"world\"])"
   ]
  },
  {
   "cell_type": "markdown",
   "metadata": {
    "id": "rHlAcqrGekNm"
   },
   "source": [
    "* 한 문장에 포함된 단어가 순서대로 나열된 상태로 네트워크에 입력되어야 합니다.\n",
    "    * 따라서 하나의 배치에 포함된 문장들이 가지는 단어의 개수가 유사하도록 만들면 좋습니다.\n",
    "    * 이를 위해 `BucketIterator`를 사용합니다.\n",
    "    * **배치 크기(batch size)**: 128"
   ]
  },
  {
   "cell_type": "code",
   "execution_count": 14,
   "metadata": {},
   "outputs": [
    {
     "data": {
      "text/plain": [
       "device(type='cuda')"
      ]
     },
     "execution_count": 14,
     "metadata": {},
     "output_type": "execute_result"
    }
   ],
   "source": [
    "import torch\n",
    "\n",
    "device = torch.device('cuda' if torch.cuda.is_available() else 'cpu')\n",
    "device"
   ]
  },
  {
   "cell_type": "code",
   "execution_count": 16,
   "metadata": {},
   "outputs": [],
   "source": [
    "BATCH_SIZE = 128\n",
    "\n",
    "# 일반적인 데이터 로더(data loader)의 iterator와 유사하게 사용 가능\n",
    "train_iterator, valid_iterator, test_iterator = BucketIterator.splits(\n",
    "    (train_dataset, valid_dataset, test_dataset),\n",
    "    batch_size=BATCH_SIZE,\n",
    "    device=device,\n",
    "    )"
   ]
  },
  {
   "cell_type": "code",
   "execution_count": 17,
   "metadata": {},
   "outputs": [
    {
     "name": "stdout",
     "output_type": "stream",
     "text": [
      "첫 번째 배치 크기: torch.Size([128, 36])\n",
      "인덱스 0: 2\n",
      "인덱스 1: 5\n",
      "인덱스 2: 116\n",
      "인덱스 3: 7\n",
      "인덱스 4: 160\n",
      "인덱스 5: 2191\n",
      "인덱스 6: 8\n",
      "인덱스 7: 34\n",
      "인덱스 8: 72\n",
      "인덱스 9: 9\n",
      "인덱스 10: 17\n",
      "인덱스 11: 47\n",
      "인덱스 12: 6\n",
      "인덱스 13: 11\n",
      "인덱스 14: 175\n",
      "인덱스 15: 4903\n",
      "인덱스 16: 2739\n",
      "인덱스 17: 643\n",
      "인덱스 18: 156\n",
      "인덱스 19: 4\n",
      "인덱스 20: 3\n",
      "인덱스 21: 1\n",
      "인덱스 22: 1\n",
      "인덱스 23: 1\n",
      "인덱스 24: 1\n",
      "인덱스 25: 1\n",
      "인덱스 26: 1\n",
      "인덱스 27: 1\n",
      "인덱스 28: 1\n",
      "인덱스 29: 1\n",
      "인덱스 30: 1\n",
      "인덱스 31: 1\n",
      "인덱스 32: 1\n",
      "인덱스 33: 1\n",
      "인덱스 34: 1\n",
      "인덱스 35: 1\n"
     ]
    }
   ],
   "source": [
    "for i, batch in enumerate(train_iterator):\n",
    "    src = batch.src\n",
    "    trg = batch.trg\n",
    "\n",
    "    print(f\"첫 번째 배치 크기: {src.shape}\")\n",
    "\n",
    "    # 현재 배치에 있는 하나의 문장에 포함된 정보 출력\n",
    "    for i in range(src.shape[1]):\n",
    "        print(f\"인덱스 {i}: {src[0][i].item()}\") # 여기에서는 [Seq_num, Seq_len]\n",
    "\n",
    "    # 첫 번째 배치만 확인\n",
    "    break"
   ]
  },
  {
   "cell_type": "markdown",
   "metadata": {
    "id": "2-HT1C6kfQG6"
   },
   "source": [
    "#### **Multi Head Attention 아키텍처**\n",
    "\n",
    "* 어텐션(attention)은 <b>세 가지 요소</b>를 입력으로 받습니다.\n",
    "    * <b>쿼리(queries)</b>\n",
    "    * <b>키(keys)</b>\n",
    "    * <b>값(values)</b>\n",
    "    * 현재 구현에서는 Query, Key, Value의 차원이 모두 같습니다.\n",
    "* 하이퍼 파라미터(hyperparameter)\n",
    "    * **hidden_dim**: 하나의 단어에 대한 임베딩 차원\n",
    "    * **n_heads**: 헤드(head)의 개수 = scaled dot-product attention의 개수\n",
    "    * **dropout_ratio**: 드롭아웃(dropout) 비율"
   ]
  },
  {
   "cell_type": "code",
   "execution_count": null,
   "metadata": {},
   "outputs": [],
   "source": []
  }
 ],
 "metadata": {
  "kernelspec": {
   "display_name": "Python 3.9.13 ('dl39v1')",
   "language": "python",
   "name": "python3"
  },
  "language_info": {
   "codemirror_mode": {
    "name": "ipython",
    "version": 3
   },
   "file_extension": ".py",
   "mimetype": "text/x-python",
   "name": "python",
   "nbconvert_exporter": "python",
   "pygments_lexer": "ipython3",
   "version": "3.9.13"
  },
  "orig_nbformat": 4,
  "vscode": {
   "interpreter": {
    "hash": "de468e2ee7dbae810dd81ab15609580ad1a751badd37f55cb471a2b46af7df9e"
   }
  }
 },
 "nbformat": 4,
 "nbformat_minor": 2
}
